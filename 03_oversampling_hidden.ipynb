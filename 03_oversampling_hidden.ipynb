{
 "cells": [
  {
   "cell_type": "code",
   "execution_count": 1,
   "metadata": {},
   "outputs": [],
   "source": [
    "# mieyhgnaj set 🤪\n",
    "\n",
    "import numpy as np\n",
    "import pandas as pd\n",
    "\n",
    "import matplotlib.pyplot as plt\n",
    "import seaborn as sns\n",
    "%matplotlib inline\n",
    "sns.set_style(\"white\")\n",
    "\n",
    "import missingno as msno\n",
    "import plotly.express as px\n",
    "from matplotlib import cm\n",
    "from matplotlib import style\n",
    "from matplotlib import font_manager\n",
    "from matplotlib import rc\n",
    "\n",
    "rc('font', family='Arial Unicode MS')\n",
    "\n",
    "import warnings\n",
    "warnings.filterwarnings(\"ignore\")"
   ]
  },
  {
   "cell_type": "markdown",
   "metadata": {},
   "source": [
    "## 🚙 `타깃 컬럼을 제외한 컬럼은 SOCAR 측의 요청대로 비공개 처리!`"
   ]
  },
  {
   "cell_type": "markdown",
   "metadata": {},
   "source": [
    "### 0. encoding ver."
   ]
  },
  {
   "cell_type": "code",
   "execution_count": 34,
   "metadata": {},
   "outputs": [],
   "source": [
    "train = pd.read_csv('datas/train_encode_ver2.csv', index_col=0)\n",
    "test = pd.read_csv('datas/test_encode_ver2.csv', index_col=0)"
   ]
  },
  {
   "cell_type": "code",
   "execution_count": 3,
   "metadata": {},
   "outputs": [],
   "source": [
    "X_train = train.drop(columns=['fraud_YN'])\n",
    "X_test = test.drop(columns=['fraud_YN'])\n",
    "y_train = train.fraud_YN\n",
    "y_test = test.fraud_YN"
   ]
  },
  {
   "cell_type": "code",
   "execution_count": 4,
   "metadata": {},
   "outputs": [
    {
     "data": {
      "text/plain": [
       "((12879, 50), (3121, 50), (12879,), (3121,))"
      ]
     },
     "execution_count": 4,
     "metadata": {},
     "output_type": "execute_result"
    }
   ],
   "source": [
    "X_train.shape, X_test.shape, y_train.shape, y_test.shape"
   ]
  },
  {
   "cell_type": "code",
   "execution_count": 9,
   "metadata": {
    "scrolled": true
   },
   "outputs": [
    {
     "data": {
      "text/plain": [
       "0    12845\n",
       "1       34\n",
       "Name: fraud_YN, dtype: int64"
      ]
     },
     "execution_count": 9,
     "metadata": {},
     "output_type": "execute_result"
    }
   ],
   "source": [
    "y_train.value_counts()"
   ]
  },
  {
   "cell_type": "markdown",
   "metadata": {},
   "source": [
    "# re-sampling\n",
    "- Oversampling: Duplicating samples from the minority class\n",
    "- Undersampling: Deleting samples from the majority class"
   ]
  },
  {
   "cell_type": "markdown",
   "metadata": {},
   "source": [
    "### 1. Naive random over-sampling\n",
    ": generate new samples by randomly sampling with replacement the current available samples"
   ]
  },
  {
   "cell_type": "code",
   "execution_count": 10,
   "metadata": {},
   "outputs": [],
   "source": [
    "from collections import Counter"
   ]
  },
  {
   "cell_type": "code",
   "execution_count": 11,
   "metadata": {
    "scrolled": true
   },
   "outputs": [
    {
     "name": "stdout",
     "output_type": "stream",
     "text": [
      "RandomOverSampler \n",
      "\n",
      "[(0, 12845), (1, 12845)]\n"
     ]
    }
   ],
   "source": [
    "from imblearn.over_sampling import RandomOverSampler\n",
    "\n",
    "random = RandomOverSampler(random_state=4)\n",
    "X_resampled, y_resampled = random.fit_resample(X_train, y_train)\n",
    "\n",
    "print(random.__class__.__name__, \"\\n\")\n",
    "print(sorted(Counter(y_resampled).items()))"
   ]
  },
  {
   "cell_type": "code",
   "execution_count": 12,
   "metadata": {},
   "outputs": [
    {
     "name": "stdout",
     "output_type": "stream",
     "text": [
      "       x2  x4  x5   x7  x8  x9  x10          x14      x15  x17  ...  x16_0  \\\n",
      "25685   0   0   2  100   2   0    0       0.0000  1014810    0  ...      0   \n",
      "25686   0   0   2  100   1   0    1  183486.5085  1110260    1  ...      1   \n",
      "25687   0   1   4  100   1   0    0  323583.5555        0    0  ...      0   \n",
      "25688   0   0   1  100   3   0    0  218102.5032        0    1  ...      0   \n",
      "25689   0   0   1  100   1   0    0       0.0000        0    1  ...      0   \n",
      "\n",
      "       x16_1  x16_2  x16_3  x16_4  x16_5  x20_0  x20_1  x20_2  x20_3  \n",
      "25685      0      1      0      0      0      1      0      0      0  \n",
      "25686      0      0      0      0      0      0      1      0      0  \n",
      "25687      1      0      0      0      0      1      0      0      0  \n",
      "25688      0      1      0      0      0      1      0      0      0  \n",
      "25689      1      0      0      0      0      1      0      0      0  \n",
      "\n",
      "[5 rows x 50 columns]\n"
     ]
    }
   ],
   "source": [
    "print(X_resampled[-5:])"
   ]
  },
  {
   "cell_type": "code",
   "execution_count": 13,
   "metadata": {},
   "outputs": [
    {
     "data": {
      "text/plain": [
       "0    12845\n",
       "1    12845\n",
       "Name: fraud_YN, dtype: int64"
      ]
     },
     "execution_count": 13,
     "metadata": {},
     "output_type": "execute_result"
    }
   ],
   "source": [
    "y_resampled.value_counts()"
   ]
  },
  {
   "cell_type": "markdown",
   "metadata": {},
   "source": [
    "### 2. SMOTE\n",
    ": First it finds the n-nearest neighbors in the minority class for each of the samples in the class. Then it draws a line between the the neighbors an generates random points on the lines."
   ]
  },
  {
   "cell_type": "code",
   "execution_count": 14,
   "metadata": {
    "scrolled": true
   },
   "outputs": [
    {
     "name": "stdout",
     "output_type": "stream",
     "text": [
      "[(0, 12845), (1, 12845)]\n"
     ]
    }
   ],
   "source": [
    "from imblearn.over_sampling import SMOTE\n",
    "\n",
    "smote = SMOTE()\n",
    "X_resampled, y_resampled = smote.fit_resample(X_train, y_train)\n",
    "print(sorted(Counter(y_resampled).items()))"
   ]
  },
  {
   "cell_type": "markdown",
   "metadata": {},
   "source": [
    "### 3. ADASYN\n",
    ": Improved version of Smote."
   ]
  },
  {
   "cell_type": "code",
   "execution_count": 16,
   "metadata": {},
   "outputs": [
    {
     "name": "stdout",
     "output_type": "stream",
     "text": [
      "ADASYN \n",
      "\n",
      "[(0, 12845), (1, 12852)]\n"
     ]
    }
   ],
   "source": [
    "from imblearn.over_sampling import ADASYN\n",
    "\n",
    "adasyn = ADASYN()\n",
    "X_resampled, y_resampled = adasyn.fit_resample(X_train, y_train)\n",
    "\n",
    "print(adasyn.__class__.__name__, \"\\n\")\n",
    "print(sorted(Counter(y_resampled).items()))"
   ]
  },
  {
   "cell_type": "code",
   "execution_count": 17,
   "metadata": {},
   "outputs": [
    {
     "name": "stdout",
     "output_type": "stream",
     "text": [
      "       x2  x4  x5   x7  x8  x9  x10            x14  x15  x17  ...  x16_0  \\\n",
      "25692   0   0   1  100   2   0    0  282607.796957    0    1  ...      0   \n",
      "25693   0   0   1  100   1   0    0  241404.852802    0    1  ...      0   \n",
      "25694   0   0   1  100   1   0    0  192805.041716    0    1  ...      0   \n",
      "25695   0   0   2   88   1   0    0  416711.685078    0    0  ...      0   \n",
      "25696   0   0   2   54   1   0    0  381640.584525    0    0  ...      0   \n",
      "\n",
      "       x16_1  x16_2  x16_3  x16_4  x16_5  x20_0  x20_1  x20_2  x20_3  \n",
      "25692      0      0      0      0      0      0      0      0      0  \n",
      "25693      0      0      0      0      0      0      0      0      0  \n",
      "25694      0      0      0      0      0      0      0      0      0  \n",
      "25695      0      0      0      0      0      0      1      0      0  \n",
      "25696      0      0      0      0      0      0      1      0      0  \n",
      "\n",
      "[5 rows x 50 columns]\n"
     ]
    }
   ],
   "source": [
    "print(X_resampled[-5:])"
   ]
  },
  {
   "cell_type": "code",
   "execution_count": 18,
   "metadata": {
    "scrolled": true
   },
   "outputs": [
    {
     "data": {
      "text/plain": [
       "1    12852\n",
       "0    12845\n",
       "Name: fraud_YN, dtype: int64"
      ]
     },
     "execution_count": 18,
     "metadata": {},
     "output_type": "execute_result"
    }
   ],
   "source": [
    "y_resampled.value_counts()"
   ]
  },
  {
   "cell_type": "markdown",
   "metadata": {},
   "source": [
    "### 4. BorderlineSMOTE\n",
    ": Unlike with the SMOTE, where the synthetic data are created randomly between the two data, Borderline-SMOTE only makes synthetic data along the decision boundary between the two classes."
   ]
  },
  {
   "cell_type": "code",
   "execution_count": 19,
   "metadata": {},
   "outputs": [
    {
     "name": "stdout",
     "output_type": "stream",
     "text": [
      "[(0, 12845), (1, 12845)]\n"
     ]
    }
   ],
   "source": [
    "from imblearn.over_sampling import BorderlineSMOTE\n",
    "\n",
    "border = BorderlineSMOTE()\n",
    "X_resampled, y_resampled = border.fit_resample(X_train, y_train)\n",
    "print(sorted(Counter(y_resampled).items()))"
   ]
  },
  {
   "cell_type": "code",
   "execution_count": 20,
   "metadata": {},
   "outputs": [
    {
     "name": "stdout",
     "output_type": "stream",
     "text": [
      "       x2  x4  x5   x7  x8  x9  x10  x14     x15  x17  ...  x16_0  x16_1  \\\n",
      "25680   0   0   1  100   1   0    0  0.0  345373    0  ...      0      0   \n",
      "25681   0   0   1  100   1   0    0  0.0  367116    0  ...      1      0   \n",
      "25682   0   0   1  100   1   0    0  0.0   81616    0  ...      0      0   \n",
      "25683   0   0   1  100   1   0    0  0.0   89651    0  ...      1      0   \n",
      "25684   0   0   3  100   1   0    0  0.0  352526    0  ...      0      0   \n",
      "25685   0   0   1  100   1   0    0  0.0  357126    0  ...      1      0   \n",
      "25686   0   0   1  100   1   0    0  0.0  356940    0  ...      1      0   \n",
      "25687   0   0   1  100   1   0    0  0.0   14450    0  ...      0      0   \n",
      "25688   0   0   1  100   1   0    0  0.0   41612    0  ...      0      0   \n",
      "25689   0   0   1  100   1   0    0  0.0  359341    0  ...      1      0   \n",
      "\n",
      "       x16_2  x16_3  x16_4  x16_5  x20_0  x20_1  x20_2  x20_3  \n",
      "25680      0      0      0      0      0      0      0      0  \n",
      "25681      0      0      0      0      0      0      0      0  \n",
      "25682      0      0      0      0      0      0      0      0  \n",
      "25683      0      0      0      0      0      0      0      0  \n",
      "25684      0      0      0      0      0      1      0      0  \n",
      "25685      0      0      0      0      0      1      0      0  \n",
      "25686      0      0      0      0      0      1      0      0  \n",
      "25687      0      0      0      0      0      0      0      0  \n",
      "25688      0      0      0      0      0      0      0      0  \n",
      "25689      0      0      0      0      0      1      0      0  \n",
      "\n",
      "[10 rows x 50 columns]\n"
     ]
    }
   ],
   "source": [
    "print(X_resampled[-10:])"
   ]
  },
  {
   "cell_type": "code",
   "execution_count": 21,
   "metadata": {},
   "outputs": [
    {
     "data": {
      "text/plain": [
       "0    12845\n",
       "1    12845\n",
       "Name: fraud_YN, dtype: int64"
      ]
     },
     "execution_count": 21,
     "metadata": {},
     "output_type": "execute_result"
    }
   ],
   "source": [
    "y_resampled.value_counts()"
   ]
  },
  {
   "cell_type": "markdown",
   "metadata": {},
   "source": [
    "### 5. SMOTENC\n",
    ": Synthetic Minority Over-sampling Technique for Nominal and Continuous.\\\n",
    ": Unlike SMOTE, SMOTE-NC for dataset containing numerical and categorical features. However, it is not designed to work with only categorical features."
   ]
  },
  {
   "cell_type": "code",
   "execution_count": 13,
   "metadata": {},
   "outputs": [],
   "source": [
    "# categorical_features = []\n",
    "# for i,j in enumerate(list(X_train.columns)):\n",
    "#     categorical_features.append(i)"
   ]
  },
  {
   "cell_type": "code",
   "execution_count": 14,
   "metadata": {},
   "outputs": [],
   "source": [
    "# categorical_features.remove(7) # 14"
   ]
  },
  {
   "cell_type": "code",
   "execution_count": 15,
   "metadata": {},
   "outputs": [],
   "source": [
    "# categorical_features.remove(8) # 15"
   ]
  },
  {
   "cell_type": "code",
   "execution_count": 23,
   "metadata": {
    "scrolled": true
   },
   "outputs": [],
   "source": [
    "categorical_features = [0, 1, 2, 3, 4, 5, 6,\n",
    "                        9, 10, 11, 12, 13, 14, 15, 16, 17, 18, 19, 20, 21, 22, 23, 24, 25, 26,\n",
    "                        27, 28, 29, 30, 31, 32, 33, 34, 35, 36, 37, 38, 39, 40, 41, 42, 43, 44,\n",
    "                        45, 46, 47, 48, 49]"
   ]
  },
  {
   "cell_type": "code",
   "execution_count": 24,
   "metadata": {},
   "outputs": [
    {
     "name": "stdout",
     "output_type": "stream",
     "text": [
      "SMOTENC \n",
      "\n",
      "[(0, 12845), (1, 12845)]\n"
     ]
    }
   ],
   "source": [
    "from imblearn.over_sampling import SMOTENC\n",
    "\n",
    "somtenc = SMOTENC(categorical_features=categorical_features,\n",
    "                                   random_state=4)\n",
    "X_resampled, y_resampled = somtenc.fit_resample(X_train, y_train)\n",
    "\n",
    "print(somtenc.__class__.__name__, \"\\n\")\n",
    "print(sorted(Counter(y_resampled).items()))"
   ]
  },
  {
   "cell_type": "code",
   "execution_count": 25,
   "metadata": {},
   "outputs": [
    {
     "name": "stdout",
     "output_type": "stream",
     "text": [
      "       x2  x4  x5   x7  x8  x9  x10            x14     x15  x17  ...  x16_0  \\\n",
      "25685   0   0   2  100   1   0    0       0.000000  652050    0  ...      1   \n",
      "25686   0   0   4  100   1   0    0  386894.414089       0    1  ...      0   \n",
      "25687   0   0   1  100   1   0    0  169870.265312       0    1  ...      0   \n",
      "25688   0   0   4  100   1   0    0       0.000000       0    0  ...      0   \n",
      "25689   0   0   1  100   2   0    0       0.000000       0    1  ...      0   \n",
      "\n",
      "       x16_1  x16_2  x16_3  x16_4  x16_5  x20_0  x20_1  x20_2  x20_3  \n",
      "25685      0      0      0      0      0      0      1      0      0  \n",
      "25686      1      0      0      0      0      0      1      0      0  \n",
      "25687      0      0      0      0      0      1      0      0      0  \n",
      "25688      0      0      0      0      0      1      0      0      0  \n",
      "25689      0      0      0      0      0      1      0      0      0  \n",
      "\n",
      "[5 rows x 50 columns]\n"
     ]
    }
   ],
   "source": [
    "print(X_resampled[-5:])"
   ]
  },
  {
   "cell_type": "code",
   "execution_count": 26,
   "metadata": {
    "scrolled": true
   },
   "outputs": [
    {
     "data": {
      "text/plain": [
       "0    12845\n",
       "1    12845\n",
       "Name: fraud_YN, dtype: int64"
      ]
     },
     "execution_count": 26,
     "metadata": {},
     "output_type": "execute_result"
    }
   ],
   "source": [
    "y_resampled.value_counts()"
   ]
  },
  {
   "cell_type": "markdown",
   "metadata": {},
   "source": [
    "### 6. SVMSMOTE\n",
    ": What special about Borderline-SMOTE SVM compared to the Borderline-SMOTE is that more data are synthesized away from the region of class overlap. It focuses more on where the data is separated."
   ]
  },
  {
   "cell_type": "code",
   "execution_count": 27,
   "metadata": {},
   "outputs": [
    {
     "name": "stdout",
     "output_type": "stream",
     "text": [
      "[(0, 12845), (1, 5990)]\n"
     ]
    }
   ],
   "source": [
    "from imblearn.over_sampling import SVMSMOTE\n",
    "\n",
    "svmsmote = SVMSMOTE(random_state=4)\n",
    "X_resampled, y_resampled = svmsmote.fit_resample(X_train, y_train)\n",
    "print(sorted(Counter(y_resampled).items()))"
   ]
  },
  {
   "cell_type": "markdown",
   "metadata": {},
   "source": [
    "### 7. SMOTEENN (combination(over-under))\n",
    ": Over-sampling using SMOTE and cleaning using ENN.\\\n",
    ": Combine over- and under-sampling using SMOTE and Edited Nearest Neighbours."
   ]
  },
  {
   "cell_type": "code",
   "execution_count": 28,
   "metadata": {},
   "outputs": [
    {
     "name": "stdout",
     "output_type": "stream",
     "text": [
      "SMOTEENN \n",
      "\n",
      "[(0, 7701), (1, 8239)]\n"
     ]
    }
   ],
   "source": [
    "from imblearn.combine import SMOTEENN\n",
    "\n",
    "smoteenn = SMOTEENN(random_state=4)\n",
    "X_resampled, y_resampled = smoteenn.fit_resample(X_train, y_train)\n",
    "\n",
    "print(smoteenn.__class__.__name__, \"\\n\")\n",
    "print(sorted(Counter(y_resampled).items()))"
   ]
  },
  {
   "cell_type": "code",
   "execution_count": 30,
   "metadata": {},
   "outputs": [
    {
     "name": "stdout",
     "output_type": "stream",
     "text": [
      "       x2  x4  x5   x7  x8  x9  x10           x14      x15  x17  ...  x16_0  \\\n",
      "15930   0   0   3  100   1   0    0  3.357163e+06   895703    0  ...      0   \n",
      "15931   0   0   2  100   1   0    0  4.434463e+05   277638    0  ...      0   \n",
      "15932   0   0   1  100   1   0    0  0.000000e+00   367130    0  ...      1   \n",
      "15933   0   0   1  100   2   0    0  5.328603e+05   178244    0  ...      0   \n",
      "15934   0   0   2  100   1   0    0  0.000000e+00        0    0  ...      0   \n",
      "15935   0   0   2  100   1   0    0  0.000000e+00  1014717    0  ...      0   \n",
      "15936   0   0   2  100   1   0    0  4.399815e+05   308866    0  ...      0   \n",
      "15937   0   0   3  100   1   0    0  0.000000e+00   352657    0  ...      0   \n",
      "15938   0   0   2  100   1   0    0  0.000000e+00        0    1  ...      1   \n",
      "15939   0   0   1  100   1   0    0  0.000000e+00        0    1  ...      0   \n",
      "\n",
      "       x16_1  x16_2  x16_3  x16_4  x16_5  x20_0  x20_1  x20_2  x20_3  \n",
      "15930      1      0      0      0      0      0      0      0      0  \n",
      "15931      0      0      0      0      0      0      0      0      0  \n",
      "15932      0      0      0      0      0      0      0      0      0  \n",
      "15933      1      0      0      0      0      0      0      0      0  \n",
      "15934      1      0      0      0      0      1      0      0      0  \n",
      "15935      0      0      0      0      0      0      0      0      0  \n",
      "15936      0      0      0      0      0      0      1      0      0  \n",
      "15937      0      0      0      0      0      0      1      0      0  \n",
      "15938      0      0      0      0      0      1      0      0      0  \n",
      "15939      0      0      0      0      0      1      0      0      0  \n",
      "\n",
      "[10 rows x 50 columns]\n"
     ]
    }
   ],
   "source": [
    "print(X_resampled[-10:])"
   ]
  },
  {
   "cell_type": "code",
   "execution_count": 31,
   "metadata": {},
   "outputs": [
    {
     "data": {
      "text/plain": [
       "1    8239\n",
       "0    7701\n",
       "Name: fraud_YN, dtype: int64"
      ]
     },
     "execution_count": 31,
     "metadata": {},
     "output_type": "execute_result"
    }
   ],
   "source": [
    "y_resampled.value_counts()"
   ]
  },
  {
   "cell_type": "markdown",
   "metadata": {},
   "source": [
    "### 8. SMOTETomek (combination(over-under))\n",
    ": Over-sampling using SMOTE and cleaning using Tomek links.\\\n",
    ": Combine over- and under-sampling using SMOTE and Tomek links."
   ]
  },
  {
   "cell_type": "code",
   "execution_count": 32,
   "metadata": {},
   "outputs": [
    {
     "name": "stdout",
     "output_type": "stream",
     "text": [
      "[(0, 11247), (1, 11247)]\n"
     ]
    }
   ],
   "source": [
    "from imblearn.combine import SMOTETomek\n",
    "\n",
    "smotetomek = SMOTETomek(random_state=4)\n",
    "X_resampled, y_resampled = smotetomek.fit_resample(X_train, y_train)\n",
    "print(sorted(Counter(y_resampled).items()))"
   ]
  },
  {
   "cell_type": "code",
   "execution_count": 33,
   "metadata": {},
   "outputs": [
    {
     "data": {
      "text/plain": [
       "0    11247\n",
       "1    11247\n",
       "Name: fraud_YN, dtype: int64"
      ]
     },
     "execution_count": 33,
     "metadata": {},
     "output_type": "execute_result"
    }
   ],
   "source": [
    "y_resampled.value_counts()"
   ]
  }
 ],
 "metadata": {
  "kernelspec": {
   "display_name": "Python 3",
   "language": "python",
   "name": "python3"
  },
  "language_info": {
   "codemirror_mode": {
    "name": "ipython",
    "version": 3
   },
   "file_extension": ".py",
   "mimetype": "text/x-python",
   "name": "python",
   "nbconvert_exporter": "python",
   "pygments_lexer": "ipython3",
   "version": "3.8.3"
  }
 },
 "nbformat": 4,
 "nbformat_minor": 4
}
